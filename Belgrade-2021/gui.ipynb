{
 "cells": [
  {
   "cell_type": "code",
   "execution_count": 1,
   "id": "34b81dbe",
   "metadata": {},
   "outputs": [
    {
     "ename": "NameError",
     "evalue": "name 'Layout' is not defined",
     "output_type": "error",
     "traceback": [
      "\u001b[0;31m---------------------------------------------------------------------------\u001b[0m",
      "\u001b[0;31mNameError\u001b[0m                                 Traceback (most recent call last)",
      "\u001b[0;32m/tmp/ipykernel_1161294/3042903204.py\u001b[0m in \u001b[0;36m<module>\u001b[0;34m\u001b[0m\n\u001b[0;32m----> 1\u001b[0;31m v_layout = Layout(\n\u001b[0m\u001b[1;32m      2\u001b[0m     \u001b[0mdisplay\u001b[0m\u001b[0;34m=\u001b[0m\u001b[0;34m'flex'\u001b[0m\u001b[0;34m,\u001b[0m\u001b[0;34m\u001b[0m\u001b[0;34m\u001b[0m\u001b[0m\n\u001b[1;32m      3\u001b[0m     \u001b[0mflex_flow\u001b[0m\u001b[0;34m=\u001b[0m\u001b[0;34m'column'\u001b[0m\u001b[0;34m,\u001b[0m\u001b[0;34m\u001b[0m\u001b[0;34m\u001b[0m\u001b[0m\n\u001b[1;32m      4\u001b[0m     \u001b[0mjustify_content\u001b[0m\u001b[0;34m=\u001b[0m\u001b[0;34m'space-between'\u001b[0m\u001b[0;34m\u001b[0m\u001b[0;34m\u001b[0m\u001b[0m\n\u001b[1;32m      5\u001b[0m )\n",
      "\u001b[0;31mNameError\u001b[0m: name 'Layout' is not defined"
     ]
    }
   ],
   "source": [
    "v_layout = Layout(\n",
    "    display='flex',\n",
    "    flex_flow='column',\n",
    "    justify_content='space-between'\n",
    ")\n",
    "\n",
    "h_layout = Layout(\n",
    "    display='flex',\n",
    "    flex_flow='row',\n",
    "    justify_content='space-between'\n",
    ")\n",
    "\n",
    "\n",
    "def build_widgets(widgets):\n",
    "    def on_button_clicked(b):\n",
    "#     import os\n",
    "#     return os.path.join('plots', 'tectover12e')'mfd_tecto_'\n",
    "        print(plot_type.value)\n",
    "\n",
    "    _w_list = []\n",
    "    \n",
    "    # Country widgets\n",
    "    lbl_countries = Label(value='Country')\n",
    "    countries = Combobox(options=[])\n",
    "    _w_list.append(Box([lbl_countries, countries], layout=v_layout))\n",
    "             \n",
    "    # Subregion widgets\n",
    "    lbl_unit = Label(value='Area source ID')\n",
    "    units = Dropdown(options=[])\n",
    "    _w_list.append(Box([lbl_unit, units], layout=v_layout))\n",
    "    \n",
    "    # Plot type widgets\n",
    "    lbl_plot = Label(value='Plot type')\n",
    "    plot_type = Dropdown(options=[('CSZ only', 'csz'), ('Tecto. only', 'tecto'), \n",
    "                                  ('ASZ only', 'asz'), ('Tecto. vs. ASZ', 'tecto_asz'), \n",
    "                                  ('Tecto. vs. FSZ', 'tecto_fsz')])\n",
    "    _w_list.append(Box([lbl_plot, plot_type], layout=v_layout))\n",
    "    \n",
    "    # Find plot button\n",
    "    plot_button = Button(description='View')\n",
    "    plot_button.on_click(on_button_clicked)\n",
    "    _w_list.append(Box([plot_button], layout=v_layout))\n",
    "    \n",
    "    return GridBox(_w_list)\n",
    "\n",
    "    "
   ]
  }
 ],
 "metadata": {
  "kernelspec": {
   "display_name": "Python 3 (ipykernel)",
   "language": "python",
   "name": "python3"
  },
  "language_info": {
   "codemirror_mode": {
    "name": "ipython",
    "version": 3
   },
   "file_extension": ".py",
   "mimetype": "text/x-python",
   "name": "python",
   "nbconvert_exporter": "python",
   "pygments_lexer": "ipython3",
   "version": "3.7.13"
  }
 },
 "nbformat": 4,
 "nbformat_minor": 5
}
