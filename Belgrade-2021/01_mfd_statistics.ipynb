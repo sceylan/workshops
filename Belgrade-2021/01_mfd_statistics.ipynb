{
 "cells": [
  {
   "cell_type": "code",
   "execution_count": null,
   "id": "7e105035",
   "metadata": {
    "scrolled": false
   },
   "outputs": [],
   "source": [
    "!jupyter nbextension enable --py widgetsnbextension\n",
    "\n",
    "from IPython.display import display\n",
    "\n",
    "%run ./gui.ipynb\n",
    "w = build_widgets(widgets)\n",
    "\n",
    "print('=====================================================================')\n",
    "print('                   Fill in the options below to view   ')\n",
    "print('                   the magnitude-frequency distribution')\n",
    "print('=====================================================================')\n",
    "display(w)"
   ]
  }
 ],
 "metadata": {
  "kernelspec": {
   "display_name": "Python 3 (ipykernel)",
   "language": "python",
   "name": "python3"
  },
  "language_info": {
   "codemirror_mode": {
    "name": "ipython",
    "version": 3
   },
   "file_extension": ".py",
   "mimetype": "text/x-python",
   "name": "python",
   "nbconvert_exporter": "python",
   "pygments_lexer": "ipython3",
   "version": "3.7.13"
  }
 },
 "nbformat": 4,
 "nbformat_minor": 5
}
