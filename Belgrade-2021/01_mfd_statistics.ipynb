{
 "cells": [
  {
   "cell_type": "code",
   "execution_count": 12,
   "id": "7e105035",
   "metadata": {
    "scrolled": false
   },
   "outputs": [
    {
     "name": "stdout",
     "output_type": "stream",
     "text": [
      "Enabling notebook extension jupyter-js-widgets/extension...\n",
      "      - Validating: \u001b[32mOK\u001b[0m\n",
      "=====================================================================\n",
      "                   Fill in the options below to view   \n",
      "                   the magnitude-frequency distribution\n",
      "=====================================================================\n"
     ]
    },
    {
     "data": {
      "application/vnd.jupyter.widget-view+json": {
       "model_id": "4e8f93e776fb4c5fa6fd766dedc57cdd",
       "version_major": 2,
       "version_minor": 0
      },
      "text/plain": [
       "GridBox(children=(Box(children=(Label(value='Country'), Combobox(value='')), layout=Layout(display='flex', fle…"
      ]
     },
     "metadata": {},
     "output_type": "display_data"
    },
    {
     "name": "stdout",
     "output_type": "stream",
     "text": [
      "csz\n"
     ]
    }
   ],
   "source": [
    "!jupyter nbextension enable --py widgetsnbextension\n",
    "\n",
    "import tools\n",
    "from ipywidgets import *\n",
    "from IPython.display import display\n",
    "\n",
    "# tools.scan_for_images(None, None)\n",
    "\n",
    "%run ./gui.ipynb\n",
    "w = build_widgets(widgets)\n",
    "\n",
    "print('=====================================================================')\n",
    "print('                   Fill in the options below to view   ')\n",
    "print('                   the magnitude-frequency distribution')\n",
    "print('=====================================================================')\n",
    "display(w)\n",
    "output = widgets.Output()"
   ]
  },
  {
   "cell_type": "code",
   "execution_count": 3,
   "id": "7e40c961",
   "metadata": {},
   "outputs": [],
   "source": [
    "from IPython.display import Image"
   ]
  }
 ],
 "metadata": {
  "kernelspec": {
   "display_name": "Python 3 (ipykernel)",
   "language": "python",
   "name": "python3"
  },
  "language_info": {
   "codemirror_mode": {
    "name": "ipython",
    "version": 3
   },
   "file_extension": ".py",
   "mimetype": "text/x-python",
   "name": "python",
   "nbconvert_exporter": "python",
   "pygments_lexer": "ipython3",
   "version": "3.7.13"
  }
 },
 "nbformat": 4,
 "nbformat_minor": 5
}
